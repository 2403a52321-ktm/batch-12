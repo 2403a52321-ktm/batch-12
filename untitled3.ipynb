{
  "nbformat": 4,
  "nbformat_minor": 0,
  "metadata": {
    "colab": {
      "provenance": [],
      "toc_visible": true,
      "authorship_tag": "ABX9TyM4kN2buQa7RxmFKKQ50Fy5"
    },
    "kernelspec": {
      "name": "python3",
      "display_name": "Python 3"
    },
    "language_info": {
      "name": "python"
    }
  },
  "cells": [
    {
      "cell_type": "code",
      "execution_count": null,
      "metadata": {
        "colab": {
          "base_uri": "https://localhost:8080/"
        },
        "id": "1QAtXdypCWA7",
        "outputId": "cee4f300-bf2a-4afa-d53f-a06c0d002c55"
      },
      "outputs": [
        {
          "output_type": "stream",
          "name": "stdout",
          "text": [
            "[1, 2, 3, 'hello', True]\n"
          ]
        }
      ],
      "source": [
        "my_list=[1,2,3,\"hello\",True]\n",
        "print(my_list)"
      ]
    },
    {
      "cell_type": "code",
      "source": [
        "my_tuple=(1,2,\"hello\",True)\n",
        "print(my_tuple)"
      ],
      "metadata": {
        "colab": {
          "base_uri": "https://localhost:8080/"
        },
        "id": "0YiXaABDDm77",
        "outputId": "65a4bfbb-0d8b-4827-c601-cf2f66a7df94"
      },
      "execution_count": null,
      "outputs": [
        {
          "output_type": "stream",
          "name": "stdout",
          "text": [
            "(1, 2, 'hello', True)\n"
          ]
        }
      ]
    },
    {
      "cell_type": "code",
      "source": [
        "my_dictionary={\"name\":\"Alice\",\"age\":30}\n",
        "print(my_dictionary)"
      ],
      "metadata": {
        "colab": {
          "base_uri": "https://localhost:8080/"
        },
        "id": "LretWRqUDzI2",
        "outputId": "740954a1-87a9-46df-b7af-cdfdff97ca6d"
      },
      "execution_count": null,
      "outputs": [
        {
          "output_type": "stream",
          "name": "stdout",
          "text": [
            "{'name': 'Alice', 'age': 30}\n"
          ]
        }
      ]
    },
    {
      "cell_type": "code",
      "source": [
        "import pandas as pd\n",
        "data={\"Name\":[\"Bhavani\",\"Sahiti\",\"Swathika\"],\"Age\":[19,19,18],\"City\":['Gudur','Maharasta','Jagityal']}\n",
        "df=pd.DataFrame(data)\n",
        "print(df)\n",
        "df.to_csv(\"data.csv\")"
      ],
      "metadata": {
        "colab": {
          "base_uri": "https://localhost:8080/"
        },
        "id": "J8r6VecdEWB1",
        "outputId": "48d5a9e5-0a1b-49ab-b75f-e9f0ef5a638c"
      },
      "execution_count": null,
      "outputs": [
        {
          "output_type": "stream",
          "name": "stdout",
          "text": [
            "       Name  Age       City\n",
            "0   Bhavani   19      Gudur\n",
            "1    Sahiti   19  Maharasta\n",
            "2  Swathika   18   Jagityal\n"
          ]
        }
      ]
    },
    {
      "cell_type": "code",
      "source": [
        "import pandas as pd\n",
        "data={\"Name\":[\"Bhavya\",\"Bhavitha\",\"Rishika\",\"Sravika\",\"Anu\",\"Rishi\",\"Siri\"],\"Age\":[19,19,20,21,22,23,24],\"City\":[\"Hyd\",\"Hmk\",\"Warangal\",\"Karimnagar\",\"Delhi\",\"Chennai\",\"Khammam\"]}\n",
        "df1=pd.DataFrame(data)\n",
        "print(df1)\n",
        "df1.to_csv(\"data1.csv\")\n"
      ],
      "metadata": {
        "colab": {
          "base_uri": "https://localhost:8080/"
        },
        "id": "WvyfOLtpENnc",
        "outputId": "70d3e9ac-d520-4915-cab9-cc031562b5b5"
      },
      "execution_count": null,
      "outputs": [
        {
          "output_type": "stream",
          "name": "stdout",
          "text": [
            "       Name  Age        City\n",
            "0    Bhavya   19         Hyd\n",
            "1  Bhavitha   19         Hmk\n",
            "2   Rishika   20    Warangal\n",
            "3   Sravika   21  Karimnagar\n",
            "4       Anu   22       Delhi\n",
            "5     Rishi   23     Chennai\n",
            "6      Siri   24     Khammam\n"
          ]
        }
      ]
    },
    {
      "cell_type": "code",
      "source": [],
      "metadata": {
        "id": "P00cfdSlLtE2"
      },
      "execution_count": null,
      "outputs": []
    },
    {
      "cell_type": "code",
      "source": [],
      "metadata": {
        "id": "kKPbje9CLuV6"
      },
      "execution_count": null,
      "outputs": []
    },
    {
      "cell_type": "code",
      "source": [
        "merge_df=pd.concat([df,df1])\n",
        "print(merge_df)"
      ],
      "metadata": {
        "colab": {
          "base_uri": "https://localhost:8080/"
        },
        "id": "Ny0oUAJKKjVR",
        "outputId": "713b662d-ce05-4a9d-9fc2-a2628b02c9c3"
      },
      "execution_count": null,
      "outputs": [
        {
          "output_type": "stream",
          "name": "stdout",
          "text": [
            "       Name  Age        City\n",
            "0   Bhavani   19       Gudur\n",
            "1    Sahiti   19   Maharasta\n",
            "2  Swathika   18    Jagityal\n",
            "0    Bhavya   19         Hyd\n",
            "1  Bhavitha   19         Hmk\n",
            "2   Rishika   20    Warangal\n",
            "3   Sravika   21  Karimnagar\n",
            "4       Anu   22       Delhi\n",
            "5     Rishi   23     Chennai\n",
            "6      Siri   24     Khammam\n"
          ]
        }
      ]
    },
    {
      "cell_type": "code",
      "source": [],
      "metadata": {
        "id": "5Y1x9_IsNp9W"
      },
      "execution_count": null,
      "outputs": []
    }
  ]
}